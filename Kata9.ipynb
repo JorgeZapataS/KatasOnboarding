{
 "cells": [
  {
   "cell_type": "markdown",
   "metadata": {},
   "source": [
    "## Funciones y subfunciones"
   ]
  },
  {
   "cell_type": "code",
   "execution_count": 1,
   "metadata": {},
   "outputs": [],
   "source": [
    "# Función para leer 3 tanques de combustible y muestre el promedio\n",
    "def combustible(tanque1, tanque2, tanque3):\n",
    "    promedio = (tanque1 + tanque2 + tanque3) / 3\n",
    "    return(f'El promedio de los tanques es: {promedio}')"
   ]
  },
  {
   "cell_type": "code",
   "execution_count": 2,
   "metadata": {},
   "outputs": [
    {
     "name": "stdout",
     "output_type": "stream",
     "text": [
      "El promedio de los tanques es: 12.0\n"
     ]
    }
   ],
   "source": [
    "# Llamamos a la función que genera el reporte print(funcion(tanque1, tanque2, tanque3))\n",
    "print(combustible(12, 12, 12))"
   ]
  },
  {
   "cell_type": "code",
   "execution_count": 3,
   "metadata": {},
   "outputs": [
    {
     "data": {
      "text/plain": [
       "10.0"
      ]
     },
     "execution_count": 3,
     "metadata": {},
     "output_type": "execute_result"
    }
   ],
   "source": [
    "# Función promedio \n",
    "def promedio(args):\n",
    "    suma = sum(args)\n",
    "    cant = len(args)\n",
    "    return suma / cant\n",
    "\n",
    "promedio([10, 10 ,10,])"
   ]
  },
  {
   "cell_type": "code",
   "execution_count": 4,
   "metadata": {},
   "outputs": [
    {
     "name": "stdout",
     "output_type": "stream",
     "text": [
      "El promedio de los tanques es: 78.0\n"
     ]
    }
   ],
   "source": [
    "# Actualiza la función\n",
    "def combustible(tanque1, tanque2, tanque3):\n",
    "    return(f'El promedio de los tanques es: {promedio([tanque1, tanque2, tanque3])}')\n",
    "\n",
    "print(combustible(88, 76, 70))"
   ]
  },
  {
   "cell_type": "markdown",
   "metadata": {},
   "source": [
    "## Argumentos de palabras clave"
   ]
  },
  {
   "cell_type": "code",
   "execution_count": 5,
   "metadata": {},
   "outputs": [
    {
     "name": "stdout",
     "output_type": "stream",
     "text": [
      "\n",
      "    El vuelo se dirige a Moon\n",
      "    Con un tiempo de vuelo de 1.0833333333333333 hrs\n",
      "    El nivel de combustible de a la izquierda es 500000 litros\n",
      "    \n"
     ]
    }
   ],
   "source": [
    "def informe(prelanzamiento, Tvuelo, Destino, TanExt, TanInt):\n",
    "    return f\"\"\"\n",
    "    El vuelo se dirige a {Destino}\n",
    "    Con un tiempo de vuelo de {(prelanzamiento+Tvuelo)/60} hrs\n",
    "    El nivel de combustible de a la izquierda es {TanExt+TanInt} litros\n",
    "    \"\"\"\n",
    "\n",
    "print(informe(14, 51, \"Moon\", 200000, 300000))"
   ]
  },
  {
   "cell_type": "code",
   "execution_count": 6,
   "metadata": {},
   "outputs": [
    {
     "name": "stdout",
     "output_type": "stream",
     "text": [
      "\"\n",
      "    La mision se dirige a Moon\n",
      "    El tiempo que le tomar a la mision sera de 76 minutos\n",
      "    El nivel de combustible del lado izquierdo es de 500000\n",
      "    \n"
     ]
    }
   ],
   "source": [
    "# Escribe tu nueva función de reporte considerando lo anterior\n",
    "def informe(Destino, *minutes, **fuel_reservoirs):\n",
    "    return f\"\"\"\"\n",
    "    La mision se dirige a {Destino}\n",
    "    El tiempo que le tomar a la mision sera de {sum(minutes)} minutos\n",
    "    El nivel de combustible del lado izquierdo es de {sum(fuel_reservoirs.values())}\n",
    "    \"\"\"\n",
    "\n",
    "print(informe(\"Moon\", 10, 15, 51, main=300000, external=200000))"
   ]
  },
  {
   "cell_type": "code",
   "execution_count": 7,
   "metadata": {},
   "outputs": [
    {
     "name": "stdout",
     "output_type": "stream",
     "text": [
      "\"\n",
      "    La mision se dirige a Moon\n",
      "    Tiempo total de viaje: 74 mins\n",
      "    Total de combustible izquierdo 500000\n",
      "    main tanque --> 300000 litros restantes\n",
      "external tanque --> 200000 litros restantes\n",
      "\n"
     ]
    }
   ],
   "source": [
    "# Escribe tu nueva función\n",
    "def reporte(destination, *minutes, **fuel_reservoirs):\n",
    "    reporte_princ = f\"\"\"\"\n",
    "    La mision se dirige a {destination}\n",
    "    Tiempo total de viaje: {sum(minutes)} mins\n",
    "    Total de combustible izquierdo {sum(fuel_reservoirs.values())}\n",
    "    \"\"\"\n",
    "    for t, g in fuel_reservoirs.items():\n",
    "        reporte_princ += f\"{t} tanque --> {g} litros restantes\\n\"\n",
    "    return reporte_princ\n",
    "\n",
    "print(reporte(\"Moon\", 8, 11, 55, main=300000, external=200000))"
   ]
  }
 ],
 "metadata": {
  "interpreter": {
   "hash": "f93175da69b3f10f997f04267fd1a84e4114b0d67bf68a284cfc44f2ff9048ab"
  },
  "kernelspec": {
   "display_name": "Python 3.10.2 64-bit (windows store)",
   "language": "python",
   "name": "python3"
  },
  "language_info": {
   "codemirror_mode": {
    "name": "ipython",
    "version": 3
   },
   "file_extension": ".py",
   "mimetype": "text/x-python",
   "name": "python",
   "nbconvert_exporter": "python",
   "pygments_lexer": "ipython3",
   "version": "3.10.2"
  },
  "orig_nbformat": 4
 },
 "nbformat": 4,
 "nbformat_minor": 2
}
