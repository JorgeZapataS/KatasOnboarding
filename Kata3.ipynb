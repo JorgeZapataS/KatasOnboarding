{
 "cells": [
  {
   "cell_type": "markdown",
   "metadata": {},
   "source": [
    "## Asteroide\n",
    "Calcular si un Asteroide se acerca a la tierra a traves de su velocidad"
   ]
  },
  {
   "cell_type": "code",
   "execution_count": 2,
   "metadata": {},
   "outputs": [
    {
     "name": "stdout",
     "output_type": "stream",
     "text": [
      "Hay peligro! Se aproxima un asteroide\n"
     ]
    }
   ],
   "source": [
    "Vasteroide = 26\n",
    "if Vasteroide > 25:\n",
    "    print('Hay peligro! Se aproxima un asteroide')\n",
    "else:\n",
    "    print('No hay peligro de ningun asteroide')"
   ]
  },
  {
   "cell_type": "markdown",
   "metadata": {},
   "source": [
    "## Asteroide y su rayo de luz\n",
    "\n",
    "Calcular si un asteroide se puede ver en el cielo a traves de su velocidad"
   ]
  },
  {
   "cell_type": "code",
   "execution_count": 3,
   "metadata": {},
   "outputs": [
    {
     "name": "stdout",
     "output_type": "stream",
     "text": [
      "No hay ningun asteroide en el cielo\n"
     ]
    }
   ],
   "source": [
    "Vasteroide = 19\n",
    "if Vasteroide > 20:\n",
    "    print('Dirige tu mirada al cielo y podras ver un asteroide')\n",
    "elif Vasteroide == 20:\n",
    "    print('Dirige tu mirada al cielo y podras ver un asteroide')\n",
    "else:\n",
    "    print('No hay ningun asteroide en el cielo')"
   ]
  },
  {
   "cell_type": "markdown",
   "metadata": {},
   "source": [
    "## Asteroides y sus Amenazas\n",
    "\n",
    "Calcular si un asteroide es una amenza para la tiera a traves de su Velocidad y Diametro"
   ]
  },
  {
   "cell_type": "code",
   "execution_count": 4,
   "metadata": {},
   "outputs": [
    {
     "name": "stdout",
     "output_type": "stream",
     "text": [
      "Mira al cielo\n"
     ]
    }
   ],
   "source": [
    "Veloc_asteroide = 20\n",
    "Diamet_asteroide = 26\n",
    "if Diamet_asteroide > 25 and Veloc_asteroide > 25:\n",
    "    print('Cuidado hay una asteroide muy peligros acercandose a la tieraa')\n",
    "elif Veloc_asteroide >= 20:\n",
    "    print('Mira al cielo')\n",
    "elif Diamet_asteroide < 25:\n",
    "    print('No hay peligro de ningun asteroide')\n",
    "else:\n",
    "    print('No hay ningun asteroide que amenaze la tieraa')"
   ]
  }
 ],
 "metadata": {
  "interpreter": {
   "hash": "f93175da69b3f10f997f04267fd1a84e4114b0d67bf68a284cfc44f2ff9048ab"
  },
  "kernelspec": {
   "display_name": "Python 3.10.2 64-bit (windows store)",
   "language": "python",
   "name": "python3"
  },
  "language_info": {
   "codemirror_mode": {
    "name": "ipython",
    "version": 3
   },
   "file_extension": ".py",
   "mimetype": "text/x-python",
   "name": "python",
   "nbconvert_exporter": "python",
   "pygments_lexer": "ipython3",
   "version": "3.10.2"
  },
  "orig_nbformat": 4
 },
 "nbformat": 4,
 "nbformat_minor": 2
}
